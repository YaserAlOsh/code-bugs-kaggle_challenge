{
 "cells": [
  {
   "cell_type": "markdown",
   "id": "f327d237",
   "metadata": {
    "papermill": {
     "duration": 0.006825,
     "end_time": "2023-01-22T17:34:02.521899",
     "exception": false,
     "start_time": "2023-01-22T17:34:02.515074",
     "status": "completed"
    },
    "tags": []
   },
   "source": [
    "# Cleaning data"
   ]
  },
  {
   "cell_type": "code",
   "execution_count": 1,
   "id": "75296f23",
   "metadata": {
    "execution": {
     "iopub.execute_input": "2023-01-22T17:34:02.535876Z",
     "iopub.status.busy": "2023-01-22T17:34:02.535070Z",
     "iopub.status.idle": "2023-01-22T17:34:03.672552Z",
     "shell.execute_reply": "2023-01-22T17:34:03.671168Z"
    },
    "papermill": {
     "duration": 1.147773,
     "end_time": "2023-01-22T17:34:03.675713",
     "exception": false,
     "start_time": "2023-01-22T17:34:02.527940",
     "status": "completed"
    },
    "tags": []
   },
   "outputs": [],
   "source": [
    "import pandas as pd\n",
    "import numpy as np\n",
    "data = pd.read_csv(\"/kaggle/input/uos-ai-week-2023where-theres-code-theres-bug/train.csv\")"
   ]
  },
  {
   "cell_type": "code",
   "execution_count": 2,
   "id": "a28f348f",
   "metadata": {
    "execution": {
     "iopub.execute_input": "2023-01-22T17:34:03.690728Z",
     "iopub.status.busy": "2023-01-22T17:34:03.690394Z",
     "iopub.status.idle": "2023-01-22T17:34:03.698465Z",
     "shell.execute_reply": "2023-01-22T17:34:03.697326Z"
    },
    "papermill": {
     "duration": 0.018866,
     "end_time": "2023-01-22T17:34:03.701498",
     "exception": false,
     "start_time": "2023-01-22T17:34:03.682632",
     "status": "completed"
    },
    "tags": []
   },
   "outputs": [],
   "source": [
    "import re\n",
    "def remove_empty(data,column):\n",
    "    idxs = data[(data[column].str.contains(r'(?m)^.*\\n.*\\n\\s*\\n.*\\n.*')) & (data[\"label\"]==1)].index\n",
    "    return data.drop(idxs)\n",
    "def clean_code(code):\n",
    "    # Remove comments\n",
    "    code = re.sub(r'(?m)^\\s*#.*\\n?', '', code) # python\n",
    "    code = re.sub(r'(?m)^\\s*//.*\\n?', '', code) # //\n",
    "    code = re.sub(r'(?m)^\\s*(\\/\\*)?[\\S\\s]*\\*\\/', '', code) # comment blocks\n",
    "    \n",
    "    # Remove extra whitespace\n",
    "    code = re.sub(r'\\s+', ' ', code)\n",
    "    # split\n",
    "    code = ' '.join(re.split(r'([\\(\\)\\{\\}\\;\\:\\[\\]\\&\\=\\<\\>\\,\\.\\+\\-\\/\\*])',code))\n",
    "    \n",
    "    # remove numericals\n",
    "    def numrepl(matchobj):\n",
    "        return matchobj.group(1) + '<NUM>'\n",
    "    code = re.sub(r'([^a-zA-Z0-9_]){1}\\d+(?:\\.\\d+)?f?',numrepl,code)\n",
    "    # remove strings\n",
    "    code = re.sub('\".*\"','<STR>',code)\n",
    "    # Remove leading and trailing whitespace\n",
    "    code = code.strip()\n",
    "    return code"
   ]
  },
  {
   "cell_type": "code",
   "execution_count": 3,
   "id": "aa689d47",
   "metadata": {
    "execution": {
     "iopub.execute_input": "2023-01-22T17:34:03.716013Z",
     "iopub.status.busy": "2023-01-22T17:34:03.715679Z",
     "iopub.status.idle": "2023-01-22T17:34:04.264952Z",
     "shell.execute_reply": "2023-01-22T17:34:04.263891Z"
    },
    "papermill": {
     "duration": 0.559235,
     "end_time": "2023-01-22T17:34:04.267245",
     "exception": false,
     "start_time": "2023-01-22T17:34:03.708010",
     "status": "completed"
    },
    "tags": []
   },
   "outputs": [
    {
     "data": {
      "text/plain": [
       "count    209786.000000\n",
       "mean         39.616347\n",
       "std          30.473218\n",
       "min           1.000000\n",
       "25%          17.000000\n",
       "50%          35.000000\n",
       "75%          54.000000\n",
       "max        1467.000000\n",
       "Name: code, dtype: float64"
      ]
     },
     "execution_count": 3,
     "metadata": {},
     "output_type": "execute_result"
    }
   ],
   "source": [
    "data[\"code\"].apply(lambda x: len(x.split(\" \"))).describe()"
   ]
  },
  {
   "cell_type": "code",
   "execution_count": 4,
   "id": "2782e241",
   "metadata": {
    "execution": {
     "iopub.execute_input": "2023-01-22T17:34:04.285052Z",
     "iopub.status.busy": "2023-01-22T17:34:04.284708Z",
     "iopub.status.idle": "2023-01-22T17:34:04.311135Z",
     "shell.execute_reply": "2023-01-22T17:34:04.310310Z"
    },
    "papermill": {
     "duration": 0.039081,
     "end_time": "2023-01-22T17:34:04.313541",
     "exception": false,
     "start_time": "2023-01-22T17:34:04.274460",
     "status": "completed"
    },
    "tags": []
   },
   "outputs": [
    {
     "data": {
      "text/plain": [
       "java    98763\n",
       "py      59337\n",
       "cpp     32821\n",
       "rs      12761\n",
       "js       4673\n",
       "ts        845\n",
       "kt        481\n",
       "c         105\n",
       "Name: file_extension, dtype: int64"
      ]
     },
     "execution_count": 4,
     "metadata": {},
     "output_type": "execute_result"
    }
   ],
   "source": [
    "data.file_extension.value_counts()"
   ]
  },
  {
   "cell_type": "code",
   "execution_count": 5,
   "id": "1edc2d26",
   "metadata": {
    "execution": {
     "iopub.execute_input": "2023-01-22T17:34:04.333798Z",
     "iopub.status.busy": "2023-01-22T17:34:04.333486Z",
     "iopub.status.idle": "2023-01-22T17:34:04.342941Z",
     "shell.execute_reply": "2023-01-22T17:34:04.341953Z"
    },
    "papermill": {
     "duration": 0.023103,
     "end_time": "2023-01-22T17:34:04.345179",
     "exception": false,
     "start_time": "2023-01-22T17:34:04.322076",
     "status": "completed"
    },
    "tags": []
   },
   "outputs": [
    {
     "data": {
      "text/plain": [
       "0    144123\n",
       "1     65663\n",
       "Name: label, dtype: int64"
      ]
     },
     "execution_count": 5,
     "metadata": {},
     "output_type": "execute_result"
    }
   ],
   "source": [
    "data.label.value_counts()"
   ]
  },
  {
   "cell_type": "code",
   "execution_count": 6,
   "id": "0e18fea1",
   "metadata": {
    "execution": {
     "iopub.execute_input": "2023-01-22T17:34:04.363870Z",
     "iopub.status.busy": "2023-01-22T17:34:04.363580Z",
     "iopub.status.idle": "2023-01-22T17:34:19.312504Z",
     "shell.execute_reply": "2023-01-22T17:34:19.311597Z"
    },
    "papermill": {
     "duration": 14.960821,
     "end_time": "2023-01-22T17:34:19.314793",
     "exception": false,
     "start_time": "2023-01-22T17:34:04.353972",
     "status": "completed"
    },
    "tags": []
   },
   "outputs": [
    {
     "data": {
      "text/html": [
       "<div>\n",
       "<style scoped>\n",
       "    .dataframe tbody tr th:only-of-type {\n",
       "        vertical-align: middle;\n",
       "    }\n",
       "\n",
       "    .dataframe tbody tr th {\n",
       "        vertical-align: top;\n",
       "    }\n",
       "\n",
       "    .dataframe thead th {\n",
       "        text-align: right;\n",
       "    }\n",
       "</style>\n",
       "<table border=\"1\" class=\"dataframe\">\n",
       "  <thead>\n",
       "    <tr style=\"text-align: right;\">\n",
       "      <th></th>\n",
       "      <th>id</th>\n",
       "      <th>code</th>\n",
       "      <th>file_extension</th>\n",
       "      <th>label</th>\n",
       "      <th>clean_code</th>\n",
       "    </tr>\n",
       "  </thead>\n",
       "  <tbody>\n",
       "    <tr>\n",
       "      <th>0</th>\n",
       "      <td>8e7e71745d</td>\n",
       "      <td>a0 = alpha_winder(0)\\n        ...</td>\n",
       "      <td>py</td>\n",
       "      <td>0</td>\n",
       "      <td>a0  =  alpha_winder ( &lt;NUM&gt; )  rebased_winder ...</td>\n",
       "    </tr>\n",
       "    <tr>\n",
       "      <th>1</th>\n",
       "      <td>f67fb60d2f</td>\n",
       "      <td>[&amp;](const ExprHandle&amp; m, const ExprHandl...</td>\n",
       "      <td>cpp</td>\n",
       "      <td>0</td>\n",
       "      <td>[  &amp;  ]  ( const ExprHandle &amp;  m ,  const Expr...</td>\n",
       "    </tr>\n",
       "    <tr>\n",
       "      <th>3</th>\n",
       "      <td>ac09060d54</td>\n",
       "      <td>def test_is_fast(self):\\n        for token...</td>\n",
       "      <td>py</td>\n",
       "      <td>1</td>\n",
       "      <td>def test_is_fast ( self )  :  for tokenizer , ...</td>\n",
       "    </tr>\n",
       "    <tr>\n",
       "      <th>4</th>\n",
       "      <td>c746c1badf</td>\n",
       "      <td>public Exception getException() {\\n       ...</td>\n",
       "      <td>java</td>\n",
       "      <td>0</td>\n",
       "      <td>public Exception getException (  )   {  return...</td>\n",
       "    </tr>\n",
       "    <tr>\n",
       "      <th>5</th>\n",
       "      <td>08ae206799</td>\n",
       "      <td>groups=groups,\\n        bias=False,\\n ...</td>\n",
       "      <td>py</td>\n",
       "      <td>0</td>\n",
       "      <td>groups = groups ,  bias = False ,  dilation = ...</td>\n",
       "    </tr>\n",
       "  </tbody>\n",
       "</table>\n",
       "</div>"
      ],
      "text/plain": [
       "           id                                               code  \\\n",
       "0  8e7e71745d                  a0 = alpha_winder(0)\\n        ...   \n",
       "1  f67fb60d2f        [&](const ExprHandle& m, const ExprHandl...   \n",
       "3  ac09060d54      def test_is_fast(self):\\n        for token...   \n",
       "4  c746c1badf      public Exception getException() {\\n       ...   \n",
       "5  08ae206799          groups=groups,\\n        bias=False,\\n ...   \n",
       "\n",
       "  file_extension  label                                         clean_code  \n",
       "0             py      0  a0  =  alpha_winder ( <NUM> )  rebased_winder ...  \n",
       "1            cpp      0  [  &  ]  ( const ExprHandle &  m ,  const Expr...  \n",
       "3             py      1  def test_is_fast ( self )  :  for tokenizer , ...  \n",
       "4           java      0  public Exception getException (  )   {  return...  \n",
       "5             py      0  groups = groups ,  bias = False ,  dilation = ...  "
      ]
     },
     "execution_count": 6,
     "metadata": {},
     "output_type": "execute_result"
    }
   ],
   "source": [
    "data = remove_empty(data,'code')\n",
    "data['clean_code'] = data['code'].apply(lambda x : clean_code(x))\n",
    "data.head()"
   ]
  },
  {
   "cell_type": "code",
   "execution_count": 7,
   "id": "98f7a426",
   "metadata": {
    "execution": {
     "iopub.execute_input": "2023-01-22T17:34:19.328991Z",
     "iopub.status.busy": "2023-01-22T17:34:19.328673Z",
     "iopub.status.idle": "2023-01-22T17:34:19.332973Z",
     "shell.execute_reply": "2023-01-22T17:34:19.331972Z"
    },
    "papermill": {
     "duration": 0.013892,
     "end_time": "2023-01-22T17:34:19.335136",
     "exception": false,
     "start_time": "2023-01-22T17:34:19.321244",
     "status": "completed"
    },
    "tags": []
   },
   "outputs": [],
   "source": [
    "#from sklearn.model_selection import train_test_split\n",
    "#X_train, X_test, y_train, y_test = train_test_split(data['clean_code'], data['label'], test_size=0.0)"
   ]
  },
  {
   "cell_type": "code",
   "execution_count": 8,
   "id": "20afef0a",
   "metadata": {
    "execution": {
     "iopub.execute_input": "2023-01-22T17:34:19.348768Z",
     "iopub.status.busy": "2023-01-22T17:34:19.348511Z",
     "iopub.status.idle": "2023-01-22T17:34:19.352647Z",
     "shell.execute_reply": "2023-01-22T17:34:19.351794Z"
    },
    "papermill": {
     "duration": 0.013583,
     "end_time": "2023-01-22T17:34:19.354783",
     "exception": false,
     "start_time": "2023-01-22T17:34:19.341200",
     "status": "completed"
    },
    "tags": []
   },
   "outputs": [],
   "source": [
    "X_train, y_train = (data['clean_code'], data['label'])"
   ]
  },
  {
   "cell_type": "code",
   "execution_count": 9,
   "id": "b8f1735d",
   "metadata": {
    "execution": {
     "iopub.execute_input": "2023-01-22T17:34:19.368741Z",
     "iopub.status.busy": "2023-01-22T17:34:19.367952Z",
     "iopub.status.idle": "2023-01-22T17:34:24.368407Z",
     "shell.execute_reply": "2023-01-22T17:34:24.367436Z"
    },
    "papermill": {
     "duration": 5.009966,
     "end_time": "2023-01-22T17:34:24.370833",
     "exception": false,
     "start_time": "2023-01-22T17:34:19.360867",
     "status": "completed"
    },
    "tags": []
   },
   "outputs": [],
   "source": [
    "from keras.preprocessing.text import Tokenizer\n",
    "from keras.preprocessing.sequence import pad_sequences"
   ]
  },
  {
   "cell_type": "code",
   "execution_count": 10,
   "id": "63eac5ff",
   "metadata": {
    "execution": {
     "iopub.execute_input": "2023-01-22T17:34:24.386138Z",
     "iopub.status.busy": "2023-01-22T17:34:24.385634Z",
     "iopub.status.idle": "2023-01-22T17:34:33.932002Z",
     "shell.execute_reply": "2023-01-22T17:34:33.930955Z"
    },
    "papermill": {
     "duration": 9.556598,
     "end_time": "2023-01-22T17:34:33.934417",
     "exception": false,
     "start_time": "2023-01-22T17:34:24.377819",
     "status": "completed"
    },
    "tags": []
   },
   "outputs": [],
   "source": [
    "tokenizer = Tokenizer()\n",
    "tokenizer.fit_on_texts(X_train)\n",
    "X_train_seq = tokenizer.texts_to_sequences(X_train)\n",
    "#X_test_seq = tokenizer.texts_to_sequences(X_test)"
   ]
  },
  {
   "cell_type": "code",
   "execution_count": 11,
   "id": "7b351570",
   "metadata": {
    "execution": {
     "iopub.execute_input": "2023-01-22T17:34:33.950400Z",
     "iopub.status.busy": "2023-01-22T17:34:33.949458Z",
     "iopub.status.idle": "2023-01-22T17:34:34.533656Z",
     "shell.execute_reply": "2023-01-22T17:34:34.532680Z"
    },
    "papermill": {
     "duration": 0.594808,
     "end_time": "2023-01-22T17:34:34.536392",
     "exception": false,
     "start_time": "2023-01-22T17:34:33.941584",
     "status": "completed"
    },
    "tags": []
   },
   "outputs": [],
   "source": [
    "# Pad the sequences so each sequence is the same length\n",
    "max_len = 50\n",
    "X_train_seq_padded = pad_sequences(X_train_seq, max_len,padding='post',truncating='post')\n",
    "#X_test_seq_padded = pad_sequences(X_test_seq, max_len,padding='post',truncating='post')"
   ]
  },
  {
   "cell_type": "code",
   "execution_count": 12,
   "id": "758b4698",
   "metadata": {
    "execution": {
     "iopub.execute_input": "2023-01-22T17:34:34.550645Z",
     "iopub.status.busy": "2023-01-22T17:34:34.550344Z",
     "iopub.status.idle": "2023-01-22T17:34:34.557693Z",
     "shell.execute_reply": "2023-01-22T17:34:34.556795Z"
    },
    "papermill": {
     "duration": 0.016805,
     "end_time": "2023-01-22T17:34:34.559768",
     "exception": false,
     "start_time": "2023-01-22T17:34:34.542963",
     "status": "completed"
    },
    "tags": []
   },
   "outputs": [],
   "source": [
    "import keras.backend as K\n",
    "from keras.layers import Dense, Embedding, LSTM\n",
    "from keras.models import Sequential\n",
    "\n",
    "def recall_m(y_true, y_pred):\n",
    "        true_positives = K.sum(K.round(K.clip(y_true * y_pred, 0, 1)))\n",
    "        possible_positives = K.sum(K.round(K.clip(y_true, 0, 1)))\n",
    "        recall = true_positives / (possible_positives + K.epsilon())\n",
    "        return recall\n",
    "\n",
    "def precision_m(y_true, y_pred):\n",
    "        true_positives = K.sum(K.round(K.clip(y_true * y_pred, 0, 1)))\n",
    "        predicted_positives = K.sum(K.round(K.clip(y_pred, 0, 1)))\n",
    "        precision = true_positives / (predicted_positives + K.epsilon())\n",
    "        return precision"
   ]
  },
  {
   "cell_type": "markdown",
   "id": "c4b3c7e0",
   "metadata": {
    "papermill": {
     "duration": 0.005962,
     "end_time": "2023-01-22T17:34:34.572287",
     "exception": false,
     "start_time": "2023-01-22T17:34:34.566325",
     "status": "completed"
    },
    "tags": []
   },
   "source": [
    "# RNN"
   ]
  },
  {
   "cell_type": "code",
   "execution_count": 13,
   "id": "259a4a07",
   "metadata": {
    "execution": {
     "iopub.execute_input": "2023-01-22T17:34:34.586447Z",
     "iopub.status.busy": "2023-01-22T17:34:34.585631Z",
     "iopub.status.idle": "2023-01-22T17:34:38.251001Z",
     "shell.execute_reply": "2023-01-22T17:34:38.249138Z"
    },
    "papermill": {
     "duration": 3.674783,
     "end_time": "2023-01-22T17:34:38.253341",
     "exception": false,
     "start_time": "2023-01-22T17:34:34.578558",
     "status": "completed"
    },
    "tags": []
   },
   "outputs": [
    {
     "name": "stderr",
     "output_type": "stream",
     "text": [
      "2023-01-22 17:34:34.955537: I tensorflow/stream_executor/cuda/cuda_gpu_executor.cc:937] successful NUMA node read from SysFS had negative value (-1), but there must be at least one NUMA node, so returning NUMA node zero\n",
      "2023-01-22 17:34:35.049973: I tensorflow/stream_executor/cuda/cuda_gpu_executor.cc:937] successful NUMA node read from SysFS had negative value (-1), but there must be at least one NUMA node, so returning NUMA node zero\n",
      "2023-01-22 17:34:35.050724: I tensorflow/stream_executor/cuda/cuda_gpu_executor.cc:937] successful NUMA node read from SysFS had negative value (-1), but there must be at least one NUMA node, so returning NUMA node zero\n",
      "2023-01-22 17:34:35.051829: I tensorflow/core/platform/cpu_feature_guard.cc:142] This TensorFlow binary is optimized with oneAPI Deep Neural Network Library (oneDNN) to use the following CPU instructions in performance-critical operations:  AVX2 AVX512F FMA\n",
      "To enable them in other operations, rebuild TensorFlow with the appropriate compiler flags.\n",
      "2023-01-22 17:34:35.056968: I tensorflow/stream_executor/cuda/cuda_gpu_executor.cc:937] successful NUMA node read from SysFS had negative value (-1), but there must be at least one NUMA node, so returning NUMA node zero\n",
      "2023-01-22 17:34:35.057654: I tensorflow/stream_executor/cuda/cuda_gpu_executor.cc:937] successful NUMA node read from SysFS had negative value (-1), but there must be at least one NUMA node, so returning NUMA node zero\n",
      "2023-01-22 17:34:35.058331: I tensorflow/stream_executor/cuda/cuda_gpu_executor.cc:937] successful NUMA node read from SysFS had negative value (-1), but there must be at least one NUMA node, so returning NUMA node zero\n",
      "2023-01-22 17:34:37.345873: I tensorflow/stream_executor/cuda/cuda_gpu_executor.cc:937] successful NUMA node read from SysFS had negative value (-1), but there must be at least one NUMA node, so returning NUMA node zero\n",
      "2023-01-22 17:34:37.347033: I tensorflow/stream_executor/cuda/cuda_gpu_executor.cc:937] successful NUMA node read from SysFS had negative value (-1), but there must be at least one NUMA node, so returning NUMA node zero\n",
      "2023-01-22 17:34:37.347949: I tensorflow/stream_executor/cuda/cuda_gpu_executor.cc:937] successful NUMA node read from SysFS had negative value (-1), but there must be at least one NUMA node, so returning NUMA node zero\n",
      "2023-01-22 17:34:37.348971: I tensorflow/core/common_runtime/gpu/gpu_device.cc:1510] Created device /job:localhost/replica:0/task:0/device:GPU:0 with 15401 MB memory:  -> device: 0, name: Tesla P100-PCIE-16GB, pci bus id: 0000:00:04.0, compute capability: 6.0\n"
     ]
    },
    {
     "name": "stdout",
     "output_type": "stream",
     "text": [
      "Model: \"model\"\n",
      "_________________________________________________________________\n",
      "Layer (type)                 Output Shape              Param #   \n",
      "=================================================================\n",
      "input_1 (InputLayer)         [(None, None)]            0         \n",
      "_________________________________________________________________\n",
      "embedding (Embedding)        (None, None, 128)         13380992  \n",
      "_________________________________________________________________\n",
      "bidirectional (Bidirectional (None, 64)                41216     \n",
      "_________________________________________________________________\n",
      "dropout (Dropout)            (None, 64)                0         \n",
      "_________________________________________________________________\n",
      "dense (Dense)                (None, 1)                 65        \n",
      "=================================================================\n",
      "Total params: 13,422,273\n",
      "Trainable params: 13,422,273\n",
      "Non-trainable params: 0\n",
      "_________________________________________________________________\n"
     ]
    }
   ],
   "source": [
    "from tensorflow import keras\n",
    "from keras import layers\n",
    "from tensorflow import keras\n",
    "from keras.layers import Dropout, BatchNormalization, Bidirectional,Dense, Embedding, LSTM\n",
    "from keras.models import Sequential\n",
    "\n",
    "inputs = keras.Input(shape=(None,), dtype=\"int64\")\n",
    "embedded = layers.Embedding(input_dim=len(tokenizer.index_word)+1, output_dim=128)(inputs)\n",
    "x = layers.Bidirectional(layers.LSTM(32))(embedded)\n",
    "x = layers.Dropout(0.5)(x)\n",
    "outputs = layers.Dense(1, activation=\"sigmoid\")(x)\n",
    "model = keras.Model(inputs, outputs)\n",
    "model.compile(optimizer='rmsprop',\n",
    "              loss='binary_crossentropy',\n",
    "              metrics=['accuracy','AUC'])\n",
    "model.summary()\n"
   ]
  },
  {
   "cell_type": "code",
   "execution_count": null,
   "id": "fd7577ee",
   "metadata": {
    "execution": {
     "iopub.execute_input": "2023-01-22T16:02:50.138120Z",
     "iopub.status.busy": "2023-01-22T16:02:50.137785Z",
     "iopub.status.idle": "2023-01-22T16:02:50.152184Z",
     "shell.execute_reply": "2023-01-22T16:02:50.151083Z",
     "shell.execute_reply.started": "2023-01-22T16:02:50.138086Z"
    },
    "papermill": {
     "duration": 0.006591,
     "end_time": "2023-01-22T17:34:38.267840",
     "exception": false,
     "start_time": "2023-01-22T17:34:38.261249",
     "status": "completed"
    },
    "tags": []
   },
   "outputs": [],
   "source": []
  },
  {
   "cell_type": "code",
   "execution_count": 14,
   "id": "bfec6195",
   "metadata": {
    "execution": {
     "iopub.execute_input": "2023-01-22T17:34:38.282022Z",
     "iopub.status.busy": "2023-01-22T17:34:38.281701Z",
     "iopub.status.idle": "2023-01-22T17:34:38.289962Z",
     "shell.execute_reply": "2023-01-22T17:34:38.288977Z"
    },
    "papermill": {
     "duration": 0.017927,
     "end_time": "2023-01-22T17:34:38.292047",
     "exception": false,
     "start_time": "2023-01-22T17:34:38.274120",
     "status": "completed"
    },
    "tags": []
   },
   "outputs": [
    {
     "data": {
      "text/plain": [
       "0         0\n",
       "1         0\n",
       "3         1\n",
       "4         0\n",
       "5         0\n",
       "         ..\n",
       "209781    0\n",
       "209782    0\n",
       "209783    0\n",
       "209784    0\n",
       "209785    0\n",
       "Name: label, Length: 207409, dtype: int64"
      ]
     },
     "execution_count": 14,
     "metadata": {},
     "output_type": "execute_result"
    }
   ],
   "source": [
    "y_train"
   ]
  },
  {
   "cell_type": "code",
   "execution_count": null,
   "id": "d3f7b950",
   "metadata": {
    "papermill": {
     "duration": 0.006147,
     "end_time": "2023-01-22T17:34:38.304711",
     "exception": false,
     "start_time": "2023-01-22T17:34:38.298564",
     "status": "completed"
    },
    "tags": []
   },
   "outputs": [],
   "source": []
  },
  {
   "cell_type": "code",
   "execution_count": 15,
   "id": "858ff080",
   "metadata": {
    "execution": {
     "iopub.execute_input": "2023-01-22T17:34:38.318886Z",
     "iopub.status.busy": "2023-01-22T17:34:38.318628Z",
     "iopub.status.idle": "2023-01-22T17:34:38.322766Z",
     "shell.execute_reply": "2023-01-22T17:34:38.321836Z"
    },
    "papermill": {
     "duration": 0.013325,
     "end_time": "2023-01-22T17:34:38.324642",
     "exception": false,
     "start_time": "2023-01-22T17:34:38.311317",
     "status": "completed"
    },
    "tags": []
   },
   "outputs": [],
   "source": [
    "# Plot basic evaluation metrics across epochs\n",
    "#import matplotlib.pyplot as plt\n",
    "#%matplotlib inline\n",
    "\n",
    "#for i in ['accuracy', 'precision_m', 'recall_m']:\n",
    " #   acc = history.history[i]\n",
    " #   val_acc = history.history['val_{}'.format(i)]\n",
    " #   epochs = range(1, len(acc) + 1)\n",
    "\n",
    " #   plt.figure()\n",
    " #   plt.plot(epochs, acc, label='Training Accuracy')\n",
    " #   plt.plot(epochs, val_acc, label='Validation Accuracy')\n",
    " #   plt.title('Results for {}'.format(i))\n",
    " #   plt.legend()\n",
    " #   plt.show()"
   ]
  },
  {
   "cell_type": "markdown",
   "id": "898653f2",
   "metadata": {
    "papermill": {
     "duration": 0.006408,
     "end_time": "2023-01-22T17:34:38.337540",
     "exception": false,
     "start_time": "2023-01-22T17:34:38.331132",
     "status": "completed"
    },
    "tags": []
   },
   "source": [
    "## Transformer"
   ]
  },
  {
   "cell_type": "code",
   "execution_count": 16,
   "id": "f327d21f",
   "metadata": {
    "execution": {
     "iopub.execute_input": "2023-01-22T17:34:38.351488Z",
     "iopub.status.busy": "2023-01-22T17:34:38.351240Z",
     "iopub.status.idle": "2023-01-22T17:34:38.359688Z",
     "shell.execute_reply": "2023-01-22T17:34:38.358853Z"
    },
    "papermill": {
     "duration": 0.017689,
     "end_time": "2023-01-22T17:34:38.361686",
     "exception": false,
     "start_time": "2023-01-22T17:34:38.343997",
     "status": "completed"
    },
    "tags": []
   },
   "outputs": [],
   "source": [
    "from tensorflow.keras import layers\n",
    "class TransformerBlock(layers.Layer):\n",
    "    def __init__(self, embed_dim, num_heads, ff_dim, rate=0.1):\n",
    "        super().__init__()\n",
    "        self.att = layers.MultiHeadAttention(num_heads=num_heads, key_dim=embed_dim)\n",
    "        self.ffn = keras.Sequential(\n",
    "            [layers.Dense(ff_dim, activation=\"relu\"), layers.Dense(embed_dim),]\n",
    "        )\n",
    "        self.layernorm1 = layers.LayerNormalization(epsilon=1e-6)\n",
    "        self.layernorm2 = layers.LayerNormalization(epsilon=1e-6)\n",
    "        self.dropout1 = layers.Dropout(rate)\n",
    "        self.dropout2 = layers.Dropout(rate)\n",
    "\n",
    "    def call(self, inputs, training):\n",
    "        attn_output = self.att(inputs, inputs)\n",
    "        attn_output = self.dropout1(attn_output, training=training)\n",
    "        out1 = self.layernorm1(inputs + attn_output)\n",
    "        ffn_output = self.ffn(out1)\n",
    "        ffn_output = self.dropout2(ffn_output, training=training)\n",
    "        return self.layernorm2(out1 + ffn_output)"
   ]
  },
  {
   "cell_type": "code",
   "execution_count": 17,
   "id": "f8a77014",
   "metadata": {
    "execution": {
     "iopub.execute_input": "2023-01-22T17:34:38.375870Z",
     "iopub.status.busy": "2023-01-22T17:34:38.375553Z",
     "iopub.status.idle": "2023-01-22T17:34:38.381570Z",
     "shell.execute_reply": "2023-01-22T17:34:38.380689Z"
    },
    "papermill": {
     "duration": 0.015144,
     "end_time": "2023-01-22T17:34:38.383545",
     "exception": false,
     "start_time": "2023-01-22T17:34:38.368401",
     "status": "completed"
    },
    "tags": []
   },
   "outputs": [],
   "source": [
    "class TokenAndPositionEmbedding(layers.Layer):\n",
    "    def __init__(self, maxlen, vocab_size, embed_dim):\n",
    "        super().__init__()\n",
    "        self.token_emb = layers.Embedding(input_dim=vocab_size, output_dim=embed_dim)\n",
    "        self.pos_emb = layers.Embedding(input_dim=maxlen, output_dim=embed_dim)\n",
    "\n",
    "    def call(self, x):\n",
    "        maxlen = tf.shape(x)[-1]\n",
    "        positions = tf.range(start=0, limit=maxlen, delta=1)\n",
    "        positions = self.pos_emb(positions)\n",
    "        x = self.token_emb(x)\n",
    "        return x + positions"
   ]
  },
  {
   "cell_type": "code",
   "execution_count": 18,
   "id": "112aecd8",
   "metadata": {
    "execution": {
     "iopub.execute_input": "2023-01-22T17:34:38.397644Z",
     "iopub.status.busy": "2023-01-22T17:34:38.397396Z",
     "iopub.status.idle": "2023-01-22T17:34:38.891172Z",
     "shell.execute_reply": "2023-01-22T17:34:38.890228Z"
    },
    "papermill": {
     "duration": 0.503487,
     "end_time": "2023-01-22T17:34:38.893514",
     "exception": false,
     "start_time": "2023-01-22T17:34:38.390027",
     "status": "completed"
    },
    "tags": []
   },
   "outputs": [],
   "source": [
    "import tensorflow as tf\n",
    "from tensorflow import keras\n",
    "embed_dim = 32  # Embedding size for each token\n",
    "num_heads = 2  # Number of attention heads\n",
    "ff_dim = 32  # Hidden layer size in feed forward network inside transformer\n",
    "\n",
    "inputs = layers.Input(shape=(max_len,))\n",
    "embedding_layer = TokenAndPositionEmbedding(max_len, len(tokenizer.index_word)+1, embed_dim)\n",
    "x = embedding_layer(inputs)\n",
    "transformer_block = TransformerBlock(embed_dim, num_heads, ff_dim)\n",
    "x = transformer_block(x)\n",
    "x = layers.GlobalAveragePooling1D()(x)\n",
    "x = layers.Dropout(0.25)(x)\n",
    "x = layers.Dense(40, activation=\"relu\")(x)\n",
    "x = layers.LayerNormalization()(x)\n",
    "x = layers.Dropout(0.1)(x)\n",
    "outputs = layers.Dense(1, activation=\"sigmoid\")(x)\n",
    "\n",
    "model = keras.Model(inputs=inputs, outputs=outputs)"
   ]
  },
  {
   "cell_type": "code",
   "execution_count": 19,
   "id": "b5f435c0",
   "metadata": {
    "execution": {
     "iopub.execute_input": "2023-01-22T17:34:38.908525Z",
     "iopub.status.busy": "2023-01-22T17:34:38.908243Z",
     "iopub.status.idle": "2023-01-22T17:34:38.915016Z",
     "shell.execute_reply": "2023-01-22T17:34:38.913977Z"
    },
    "papermill": {
     "duration": 0.019492,
     "end_time": "2023-01-22T17:34:38.919959",
     "exception": false,
     "start_time": "2023-01-22T17:34:38.900467",
     "status": "completed"
    },
    "tags": []
   },
   "outputs": [
    {
     "name": "stdout",
     "output_type": "stream",
     "text": [
      "Model: \"model_1\"\n",
      "_________________________________________________________________\n",
      "Layer (type)                 Output Shape              Param #   \n",
      "=================================================================\n",
      "input_2 (InputLayer)         [(None, 50)]              0         \n",
      "_________________________________________________________________\n",
      "token_and_position_embedding (None, 50, 32)            3346848   \n",
      "_________________________________________________________________\n",
      "transformer_block (Transform (None, 50, 32)            10656     \n",
      "_________________________________________________________________\n",
      "global_average_pooling1d (Gl (None, 32)                0         \n",
      "_________________________________________________________________\n",
      "dropout_3 (Dropout)          (None, 32)                0         \n",
      "_________________________________________________________________\n",
      "dense_3 (Dense)              (None, 40)                1320      \n",
      "_________________________________________________________________\n",
      "layer_normalization_2 (Layer (None, 40)                80        \n",
      "_________________________________________________________________\n",
      "dropout_4 (Dropout)          (None, 40)                0         \n",
      "_________________________________________________________________\n",
      "dense_4 (Dense)              (None, 1)                 41        \n",
      "=================================================================\n",
      "Total params: 3,358,945\n",
      "Trainable params: 3,358,945\n",
      "Non-trainable params: 0\n",
      "_________________________________________________________________\n"
     ]
    }
   ],
   "source": [
    "model.summary()"
   ]
  },
  {
   "cell_type": "markdown",
   "id": "da33c600",
   "metadata": {
    "papermill": {
     "duration": 0.006234,
     "end_time": "2023-01-22T17:34:38.933964",
     "exception": false,
     "start_time": "2023-01-22T17:34:38.927730",
     "status": "completed"
    },
    "tags": []
   },
   "source": [
    "## Train"
   ]
  },
  {
   "cell_type": "code",
   "execution_count": 20,
   "id": "393dc740",
   "metadata": {
    "execution": {
     "iopub.execute_input": "2023-01-22T17:34:38.948462Z",
     "iopub.status.busy": "2023-01-22T17:34:38.948181Z",
     "iopub.status.idle": "2023-01-22T17:34:38.958688Z",
     "shell.execute_reply": "2023-01-22T17:34:38.957864Z"
    },
    "papermill": {
     "duration": 0.020222,
     "end_time": "2023-01-22T17:34:38.960779",
     "exception": false,
     "start_time": "2023-01-22T17:34:38.940557",
     "status": "completed"
    },
    "tags": []
   },
   "outputs": [],
   "source": [
    "# Compile the model\n",
    "model.compile(optimizer='adam',\n",
    "              loss='binary_crossentropy',\n",
    "              metrics=['accuracy','AUC'])"
   ]
  },
  {
   "cell_type": "code",
   "execution_count": 21,
   "id": "b02bd121",
   "metadata": {
    "execution": {
     "iopub.execute_input": "2023-01-22T17:34:38.974701Z",
     "iopub.status.busy": "2023-01-22T17:34:38.974448Z",
     "iopub.status.idle": "2023-01-22T17:38:51.885459Z",
     "shell.execute_reply": "2023-01-22T17:38:51.884736Z"
    },
    "papermill": {
     "duration": 252.920312,
     "end_time": "2023-01-22T17:38:51.887622",
     "exception": false,
     "start_time": "2023-01-22T17:34:38.967310",
     "status": "completed"
    },
    "tags": []
   },
   "outputs": [
    {
     "name": "stdout",
     "output_type": "stream",
     "text": [
      "Epoch 1/5\n"
     ]
    },
    {
     "name": "stderr",
     "output_type": "stream",
     "text": [
      "2023-01-22 17:34:39.060287: I tensorflow/compiler/mlir/mlir_graph_optimization_pass.cc:185] None of the MLIR Optimization Passes are enabled (registered 2)\n"
     ]
    },
    {
     "name": "stdout",
     "output_type": "stream",
     "text": [
      "   1/6482 [..............................] - ETA: 6:26:23 - loss: 0.7154 - accuracy: 0.5938 - auc: 0.5841"
     ]
    },
    {
     "name": "stderr",
     "output_type": "stream",
     "text": [
      "2023-01-22 17:34:42.509407: I tensorflow/stream_executor/cuda/cuda_dnn.cc:369] Loaded cuDNN version 8005\n"
     ]
    },
    {
     "name": "stdout",
     "output_type": "stream",
     "text": [
      "6482/6482 [==============================] - 54s 8ms/step - loss: 0.5226 - accuracy: 0.7405 - auc: 0.7485\n",
      "Epoch 2/5\n",
      "6482/6482 [==============================] - 49s 8ms/step - loss: 0.4220 - accuracy: 0.8034 - auc: 0.8552\n",
      "Epoch 3/5\n",
      "6482/6482 [==============================] - 50s 8ms/step - loss: 0.3630 - accuracy: 0.8352 - auc: 0.8953\n",
      "Epoch 4/5\n",
      "6482/6482 [==============================] - 49s 8ms/step - loss: 0.3281 - accuracy: 0.8507 - auc: 0.9148\n",
      "Epoch 5/5\n",
      "6482/6482 [==============================] - 50s 8ms/step - loss: 0.3041 - accuracy: 0.8611 - auc: 0.9268\n"
     ]
    }
   ],
   "source": [
    "callbacks = [\n",
    "    keras.callbacks.ModelCheckpoint(\"bi_rnn.keras\",\n",
    "                                    save_best_only=True)\n",
    "]\n",
    "history = model.fit(X_train_seq_padded, y_train, \n",
    "                    batch_size=32, epochs=5,\n",
    "                    callbacks=callbacks)\n",
    "                    #validation_data=(X_test_seq_padded, y_test))"
   ]
  },
  {
   "cell_type": "markdown",
   "id": "a8f78675",
   "metadata": {
    "papermill": {
     "duration": 0.250236,
     "end_time": "2023-01-22T17:38:52.423144",
     "exception": false,
     "start_time": "2023-01-22T17:38:52.172908",
     "status": "completed"
    },
    "tags": []
   },
   "source": [
    "## Submission"
   ]
  },
  {
   "cell_type": "code",
   "execution_count": 22,
   "id": "c1eca74f",
   "metadata": {
    "execution": {
     "iopub.execute_input": "2023-01-22T17:38:52.934333Z",
     "iopub.status.busy": "2023-01-22T17:38:52.933877Z",
     "iopub.status.idle": "2023-01-22T17:38:53.072054Z",
     "shell.execute_reply": "2023-01-22T17:38:53.070835Z"
    },
    "papermill": {
     "duration": 0.3899,
     "end_time": "2023-01-22T17:38:53.074555",
     "exception": false,
     "start_time": "2023-01-22T17:38:52.684655",
     "status": "completed"
    },
    "tags": []
   },
   "outputs": [
    {
     "data": {
      "text/html": [
       "<div>\n",
       "<style scoped>\n",
       "    .dataframe tbody tr th:only-of-type {\n",
       "        vertical-align: middle;\n",
       "    }\n",
       "\n",
       "    .dataframe tbody tr th {\n",
       "        vertical-align: top;\n",
       "    }\n",
       "\n",
       "    .dataframe thead th {\n",
       "        text-align: right;\n",
       "    }\n",
       "</style>\n",
       "<table border=\"1\" class=\"dataframe\">\n",
       "  <thead>\n",
       "    <tr style=\"text-align: right;\">\n",
       "      <th></th>\n",
       "      <th>id</th>\n",
       "      <th>code</th>\n",
       "      <th>file_extension</th>\n",
       "    </tr>\n",
       "  </thead>\n",
       "  <tbody>\n",
       "    <tr>\n",
       "      <th>0</th>\n",
       "      <td>9125d50679</td>\n",
       "      <td>self.play(\\n            pixels_to_dete...</td>\n",
       "      <td>py</td>\n",
       "    </tr>\n",
       "    <tr>\n",
       "      <th>1</th>\n",
       "      <td>dc3b7fbe81</td>\n",
       "      <td>*[\\n                    Changi...</td>\n",
       "      <td>py</td>\n",
       "    </tr>\n",
       "    <tr>\n",
       "      <th>2</th>\n",
       "      <td>3276506966</td>\n",
       "      <td>...</td>\n",
       "      <td>cpp</td>\n",
       "    </tr>\n",
       "    <tr>\n",
       "      <th>3</th>\n",
       "      <td>556239b7c2</td>\n",
       "      <td>\"\"\"\\n    A = torch.randn(*(batch_dims + (m...</td>\n",
       "      <td>py</td>\n",
       "    </tr>\n",
       "    <tr>\n",
       "      <th>4</th>\n",
       "      <td>15c4f39064</td>\n",
       "      <td>abstract fun getAllOutdated(outdatedThresh...</td>\n",
       "      <td>kt</td>\n",
       "    </tr>\n",
       "    <tr>\n",
       "      <th>...</th>\n",
       "      <td>...</td>\n",
       "      <td>...</td>\n",
       "      <td>...</td>\n",
       "    </tr>\n",
       "    <tr>\n",
       "      <th>22994</th>\n",
       "      <td>13696067b8</td>\n",
       "      <td>help=\"The root of the backing fi...</td>\n",
       "      <td>py</td>\n",
       "    </tr>\n",
       "    <tr>\n",
       "      <th>22995</th>\n",
       "      <td>59c99cf33d</td>\n",
       "      <td>\\n    public void doLeftDeletes(LeftTupleSink ...</td>\n",
       "      <td>java</td>\n",
       "    </tr>\n",
       "    <tr>\n",
       "      <th>22996</th>\n",
       "      <td>4755e18b90</td>\n",
       "      <td>gpu_last_map_locations,\\n     ...</td>\n",
       "      <td>py</td>\n",
       "    </tr>\n",
       "    <tr>\n",
       "      <th>22997</th>\n",
       "      <td>6de73b77c1</td>\n",
       "      <td>break;\\r\\n            ...</td>\n",
       "      <td>java</td>\n",
       "    </tr>\n",
       "    <tr>\n",
       "      <th>22998</th>\n",
       "      <td>fb303af42c</td>\n",
       "      <td>\\t\\tbind(MailManager.class).to(DefaultMailMana...</td>\n",
       "      <td>java</td>\n",
       "    </tr>\n",
       "  </tbody>\n",
       "</table>\n",
       "<p>22999 rows × 3 columns</p>\n",
       "</div>"
      ],
      "text/plain": [
       "               id                                               code  \\\n",
       "0      9125d50679          self.play(\\n            pixels_to_dete...   \n",
       "1      dc3b7fbe81                  *[\\n                    Changi...   \n",
       "2      3276506966                                                ...   \n",
       "3      556239b7c2      \"\"\"\\n    A = torch.randn(*(batch_dims + (m...   \n",
       "4      15c4f39064      abstract fun getAllOutdated(outdatedThresh...   \n",
       "...           ...                                                ...   \n",
       "22994  13696067b8                help=\"The root of the backing fi...   \n",
       "22995  59c99cf33d  \\n    public void doLeftDeletes(LeftTupleSink ...   \n",
       "22996  4755e18b90                  gpu_last_map_locations,\\n     ...   \n",
       "22997  6de73b77c1                          break;\\r\\n            ...   \n",
       "22998  fb303af42c  \\t\\tbind(MailManager.class).to(DefaultMailMana...   \n",
       "\n",
       "      file_extension  \n",
       "0                 py  \n",
       "1                 py  \n",
       "2                cpp  \n",
       "3                 py  \n",
       "4                 kt  \n",
       "...              ...  \n",
       "22994             py  \n",
       "22995           java  \n",
       "22996             py  \n",
       "22997           java  \n",
       "22998           java  \n",
       "\n",
       "[22999 rows x 3 columns]"
      ]
     },
     "execution_count": 22,
     "metadata": {},
     "output_type": "execute_result"
    }
   ],
   "source": [
    "# load test.csv,\n",
    "submission = pd.read_csv(r'/kaggle/input/uos-ai-week-2023where-theres-code-theres-bug/test.csv')\n",
    "submission"
   ]
  },
  {
   "cell_type": "code",
   "execution_count": 23,
   "id": "d7a8c05c",
   "metadata": {
    "execution": {
     "iopub.execute_input": "2023-01-22T17:38:53.618649Z",
     "iopub.status.busy": "2023-01-22T17:38:53.618260Z",
     "iopub.status.idle": "2023-01-22T17:38:57.303751Z",
     "shell.execute_reply": "2023-01-22T17:38:57.302795Z"
    },
    "papermill": {
     "duration": 3.935412,
     "end_time": "2023-01-22T17:38:57.306146",
     "exception": false,
     "start_time": "2023-01-22T17:38:53.370734",
     "status": "completed"
    },
    "tags": []
   },
   "outputs": [],
   "source": [
    "import tensorflow as tf\n",
    "# create a function, that given a string comment, it predicts topic as a string,\n",
    "def predict_bug(code):\n",
    "    'input: \"x=y\\nz=w\\n for b in range(5,4):\\nz+=b\\nprint(z)\"'\n",
    "    'returns: 1 (buggy)'\n",
    "    code = clean_code(code)\n",
    "    tokens = tokenizer.texts_to_sequences(code)\n",
    "    if tokens == None or tokens == [] or len(tokens) == 0:\n",
    "        return 0\n",
    "    #print(code)\n",
    "    seq = pad_sequences(tokens,maxlen=max_len,padding='post',truncating='post')\n",
    "    #print(seq)\n",
    "    return model.predict(seq)\n",
    "\n",
    "#from keras.models import load_model\n",
    "#model = load_model(r\"/kaggle/working/bi_rnn.keras\")\n",
    "\n",
    "# store all predicted topics in one new column\n",
    "submission['clean_code'] = submission['code'].apply(lambda code: clean_code(code))\n",
    "sequences = tokenizer.texts_to_sequences(submission['clean_code'])\n",
    "sequences = pad_sequences(sequences,maxlen=max_len,padding='post',truncating='post')\n",
    "submission['label'] = tf.cast(tf.round(model.predict(sequences)),dtype=tf.int64)\n",
    "\n",
    "# drop the Comments column\n",
    "submission = submission.drop(labels=['clean_code','code','file_extension'], axis=1)\n",
    "\n",
    "# save the dataframe as a .csv file for submission\n",
    "submission.to_csv('submission.csv',index=False)"
   ]
  },
  {
   "cell_type": "code",
   "execution_count": 24,
   "id": "f04f9e1a",
   "metadata": {
    "execution": {
     "iopub.execute_input": "2023-01-22T17:38:57.798449Z",
     "iopub.status.busy": "2023-01-22T17:38:57.798064Z",
     "iopub.status.idle": "2023-01-22T17:38:57.812339Z",
     "shell.execute_reply": "2023-01-22T17:38:57.811469Z"
    },
    "papermill": {
     "duration": 0.262883,
     "end_time": "2023-01-22T17:38:57.814307",
     "exception": false,
     "start_time": "2023-01-22T17:38:57.551424",
     "status": "completed"
    },
    "tags": []
   },
   "outputs": [
    {
     "data": {
      "text/html": [
       "<div>\n",
       "<style scoped>\n",
       "    .dataframe tbody tr th:only-of-type {\n",
       "        vertical-align: middle;\n",
       "    }\n",
       "\n",
       "    .dataframe tbody tr th {\n",
       "        vertical-align: top;\n",
       "    }\n",
       "\n",
       "    .dataframe thead th {\n",
       "        text-align: right;\n",
       "    }\n",
       "</style>\n",
       "<table border=\"1\" class=\"dataframe\">\n",
       "  <thead>\n",
       "    <tr style=\"text-align: right;\">\n",
       "      <th></th>\n",
       "      <th>id</th>\n",
       "      <th>label</th>\n",
       "    </tr>\n",
       "  </thead>\n",
       "  <tbody>\n",
       "    <tr>\n",
       "      <th>0</th>\n",
       "      <td>9125d50679</td>\n",
       "      <td>0</td>\n",
       "    </tr>\n",
       "    <tr>\n",
       "      <th>1</th>\n",
       "      <td>dc3b7fbe81</td>\n",
       "      <td>0</td>\n",
       "    </tr>\n",
       "    <tr>\n",
       "      <th>2</th>\n",
       "      <td>3276506966</td>\n",
       "      <td>0</td>\n",
       "    </tr>\n",
       "    <tr>\n",
       "      <th>3</th>\n",
       "      <td>556239b7c2</td>\n",
       "      <td>1</td>\n",
       "    </tr>\n",
       "    <tr>\n",
       "      <th>4</th>\n",
       "      <td>15c4f39064</td>\n",
       "      <td>0</td>\n",
       "    </tr>\n",
       "    <tr>\n",
       "      <th>...</th>\n",
       "      <td>...</td>\n",
       "      <td>...</td>\n",
       "    </tr>\n",
       "    <tr>\n",
       "      <th>22994</th>\n",
       "      <td>13696067b8</td>\n",
       "      <td>1</td>\n",
       "    </tr>\n",
       "    <tr>\n",
       "      <th>22995</th>\n",
       "      <td>59c99cf33d</td>\n",
       "      <td>0</td>\n",
       "    </tr>\n",
       "    <tr>\n",
       "      <th>22996</th>\n",
       "      <td>4755e18b90</td>\n",
       "      <td>1</td>\n",
       "    </tr>\n",
       "    <tr>\n",
       "      <th>22997</th>\n",
       "      <td>6de73b77c1</td>\n",
       "      <td>0</td>\n",
       "    </tr>\n",
       "    <tr>\n",
       "      <th>22998</th>\n",
       "      <td>fb303af42c</td>\n",
       "      <td>0</td>\n",
       "    </tr>\n",
       "  </tbody>\n",
       "</table>\n",
       "<p>22999 rows × 2 columns</p>\n",
       "</div>"
      ],
      "text/plain": [
       "               id  label\n",
       "0      9125d50679      0\n",
       "1      dc3b7fbe81      0\n",
       "2      3276506966      0\n",
       "3      556239b7c2      1\n",
       "4      15c4f39064      0\n",
       "...           ...    ...\n",
       "22994  13696067b8      1\n",
       "22995  59c99cf33d      0\n",
       "22996  4755e18b90      1\n",
       "22997  6de73b77c1      0\n",
       "22998  fb303af42c      0\n",
       "\n",
       "[22999 rows x 2 columns]"
      ]
     },
     "execution_count": 24,
     "metadata": {},
     "output_type": "execute_result"
    }
   ],
   "source": [
    "submission"
   ]
  }
 ],
 "metadata": {
  "kernelspec": {
   "display_name": "Python 3",
   "language": "python",
   "name": "python3"
  },
  "language_info": {
   "codemirror_mode": {
    "name": "ipython",
    "version": 3
   },
   "file_extension": ".py",
   "mimetype": "text/x-python",
   "name": "python",
   "nbconvert_exporter": "python",
   "pygments_lexer": "ipython3",
   "version": "3.7.12"
  },
  "papermill": {
   "default_parameters": {},
   "duration": 306.763045,
   "end_time": "2023-01-22T17:39:01.182118",
   "environment_variables": {},
   "exception": null,
   "input_path": "__notebook__.ipynb",
   "output_path": "__notebook__.ipynb",
   "parameters": {},
   "start_time": "2023-01-22T17:33:54.419073",
   "version": "2.3.4"
  }
 },
 "nbformat": 4,
 "nbformat_minor": 5
}
